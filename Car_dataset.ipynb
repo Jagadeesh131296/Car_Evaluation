{
 "cells": [
  {
   "cell_type": "code",
   "execution_count": 2,
   "metadata": {},
   "outputs": [],
   "source": [
    "import numpy as np\n",
    "import pandas as pd\n",
    "import matplotlib.pyplot as plt\n",
    "import seaborn as sns\n",
    "%matplotlib inline"
   ]
  },
  {
   "cell_type": "code",
   "execution_count": 3,
   "metadata": {},
   "outputs": [
    {
     "name": "stdout",
     "output_type": "stream",
     "text": [
      "          0      1      2     3      4     5      6\n",
      "0     vhigh  vhigh      2     2  small   low  unacc\n",
      "1     vhigh  vhigh      2     2  small   med  unacc\n",
      "2     vhigh  vhigh      2     2  small  high  unacc\n",
      "3     vhigh  vhigh      2     2    med   low  unacc\n",
      "4     vhigh  vhigh      2     2    med   med  unacc\n",
      "...     ...    ...    ...   ...    ...   ...    ...\n",
      "1723    low    low  5more  more    med   med   good\n",
      "1724    low    low  5more  more    med  high  vgood\n",
      "1725    low    low  5more  more    big   low  unacc\n",
      "1726    low    low  5more  more    big   med   good\n",
      "1727    low    low  5more  more    big  high  vgood\n",
      "\n",
      "[1728 rows x 7 columns]\n"
     ]
    }
   ],
   "source": [
    "# reading csv files\n",
    "data =  pd.read_csv('car.data', sep=\",\",header=None)\n",
    "print(data)"
   ]
  },
  {
   "cell_type": "code",
   "execution_count": 4,
   "metadata": {},
   "outputs": [],
   "source": [
    "# Changing column names for better understanding\n",
    "col_names = ['buying','maint','doors','persons','lug_boot','safety','class']\n",
    "data.columns = col_names"
   ]
  },
  {
   "cell_type": "code",
   "execution_count": 5,
   "metadata": {},
   "outputs": [
    {
     "data": {
      "text/html": [
       "<div>\n",
       "<style scoped>\n",
       "    .dataframe tbody tr th:only-of-type {\n",
       "        vertical-align: middle;\n",
       "    }\n",
       "\n",
       "    .dataframe tbody tr th {\n",
       "        vertical-align: top;\n",
       "    }\n",
       "\n",
       "    .dataframe thead th {\n",
       "        text-align: right;\n",
       "    }\n",
       "</style>\n",
       "<table border=\"1\" class=\"dataframe\">\n",
       "  <thead>\n",
       "    <tr style=\"text-align: right;\">\n",
       "      <th></th>\n",
       "      <th>buying</th>\n",
       "      <th>maint</th>\n",
       "      <th>doors</th>\n",
       "      <th>persons</th>\n",
       "      <th>lug_boot</th>\n",
       "      <th>safety</th>\n",
       "      <th>class</th>\n",
       "    </tr>\n",
       "  </thead>\n",
       "  <tbody>\n",
       "    <tr>\n",
       "      <th>0</th>\n",
       "      <td>vhigh</td>\n",
       "      <td>vhigh</td>\n",
       "      <td>2</td>\n",
       "      <td>2</td>\n",
       "      <td>small</td>\n",
       "      <td>low</td>\n",
       "      <td>unacc</td>\n",
       "    </tr>\n",
       "    <tr>\n",
       "      <th>1</th>\n",
       "      <td>vhigh</td>\n",
       "      <td>vhigh</td>\n",
       "      <td>2</td>\n",
       "      <td>2</td>\n",
       "      <td>small</td>\n",
       "      <td>med</td>\n",
       "      <td>unacc</td>\n",
       "    </tr>\n",
       "    <tr>\n",
       "      <th>2</th>\n",
       "      <td>vhigh</td>\n",
       "      <td>vhigh</td>\n",
       "      <td>2</td>\n",
       "      <td>2</td>\n",
       "      <td>small</td>\n",
       "      <td>high</td>\n",
       "      <td>unacc</td>\n",
       "    </tr>\n",
       "    <tr>\n",
       "      <th>3</th>\n",
       "      <td>vhigh</td>\n",
       "      <td>vhigh</td>\n",
       "      <td>2</td>\n",
       "      <td>2</td>\n",
       "      <td>med</td>\n",
       "      <td>low</td>\n",
       "      <td>unacc</td>\n",
       "    </tr>\n",
       "    <tr>\n",
       "      <th>4</th>\n",
       "      <td>vhigh</td>\n",
       "      <td>vhigh</td>\n",
       "      <td>2</td>\n",
       "      <td>2</td>\n",
       "      <td>med</td>\n",
       "      <td>med</td>\n",
       "      <td>unacc</td>\n",
       "    </tr>\n",
       "    <tr>\n",
       "      <th>...</th>\n",
       "      <td>...</td>\n",
       "      <td>...</td>\n",
       "      <td>...</td>\n",
       "      <td>...</td>\n",
       "      <td>...</td>\n",
       "      <td>...</td>\n",
       "      <td>...</td>\n",
       "    </tr>\n",
       "    <tr>\n",
       "      <th>1723</th>\n",
       "      <td>low</td>\n",
       "      <td>low</td>\n",
       "      <td>5more</td>\n",
       "      <td>more</td>\n",
       "      <td>med</td>\n",
       "      <td>med</td>\n",
       "      <td>good</td>\n",
       "    </tr>\n",
       "    <tr>\n",
       "      <th>1724</th>\n",
       "      <td>low</td>\n",
       "      <td>low</td>\n",
       "      <td>5more</td>\n",
       "      <td>more</td>\n",
       "      <td>med</td>\n",
       "      <td>high</td>\n",
       "      <td>vgood</td>\n",
       "    </tr>\n",
       "    <tr>\n",
       "      <th>1725</th>\n",
       "      <td>low</td>\n",
       "      <td>low</td>\n",
       "      <td>5more</td>\n",
       "      <td>more</td>\n",
       "      <td>big</td>\n",
       "      <td>low</td>\n",
       "      <td>unacc</td>\n",
       "    </tr>\n",
       "    <tr>\n",
       "      <th>1726</th>\n",
       "      <td>low</td>\n",
       "      <td>low</td>\n",
       "      <td>5more</td>\n",
       "      <td>more</td>\n",
       "      <td>big</td>\n",
       "      <td>med</td>\n",
       "      <td>good</td>\n",
       "    </tr>\n",
       "    <tr>\n",
       "      <th>1727</th>\n",
       "      <td>low</td>\n",
       "      <td>low</td>\n",
       "      <td>5more</td>\n",
       "      <td>more</td>\n",
       "      <td>big</td>\n",
       "      <td>high</td>\n",
       "      <td>vgood</td>\n",
       "    </tr>\n",
       "  </tbody>\n",
       "</table>\n",
       "<p>1728 rows × 7 columns</p>\n",
       "</div>"
      ],
      "text/plain": [
       "     buying  maint  doors persons lug_boot safety  class\n",
       "0     vhigh  vhigh      2       2    small    low  unacc\n",
       "1     vhigh  vhigh      2       2    small    med  unacc\n",
       "2     vhigh  vhigh      2       2    small   high  unacc\n",
       "3     vhigh  vhigh      2       2      med    low  unacc\n",
       "4     vhigh  vhigh      2       2      med    med  unacc\n",
       "...     ...    ...    ...     ...      ...    ...    ...\n",
       "1723    low    low  5more    more      med    med   good\n",
       "1724    low    low  5more    more      med   high  vgood\n",
       "1725    low    low  5more    more      big    low  unacc\n",
       "1726    low    low  5more    more      big    med   good\n",
       "1727    low    low  5more    more      big   high  vgood\n",
       "\n",
       "[1728 rows x 7 columns]"
      ]
     },
     "execution_count": 5,
     "metadata": {},
     "output_type": "execute_result"
    }
   ],
   "source": [
    "data"
   ]
  },
  {
   "cell_type": "code",
   "execution_count": 6,
   "metadata": {},
   "outputs": [],
   "source": [
    "from sklearn.preprocessing import LabelEncoder"
   ]
  },
  {
   "cell_type": "code",
   "execution_count": 7,
   "metadata": {},
   "outputs": [],
   "source": [
    "le=LabelEncoder()"
   ]
  },
  {
   "cell_type": "code",
   "execution_count": 8,
   "metadata": {},
   "outputs": [
    {
     "data": {
      "text/html": [
       "<div>\n",
       "<style scoped>\n",
       "    .dataframe tbody tr th:only-of-type {\n",
       "        vertical-align: middle;\n",
       "    }\n",
       "\n",
       "    .dataframe tbody tr th {\n",
       "        vertical-align: top;\n",
       "    }\n",
       "\n",
       "    .dataframe thead th {\n",
       "        text-align: right;\n",
       "    }\n",
       "</style>\n",
       "<table border=\"1\" class=\"dataframe\">\n",
       "  <thead>\n",
       "    <tr style=\"text-align: right;\">\n",
       "      <th></th>\n",
       "      <th>buying</th>\n",
       "      <th>maint</th>\n",
       "      <th>doors</th>\n",
       "      <th>persons</th>\n",
       "      <th>lug_boot</th>\n",
       "      <th>safety</th>\n",
       "      <th>class</th>\n",
       "    </tr>\n",
       "  </thead>\n",
       "  <tbody>\n",
       "    <tr>\n",
       "      <th>0</th>\n",
       "      <td>3</td>\n",
       "      <td>3</td>\n",
       "      <td>0</td>\n",
       "      <td>0</td>\n",
       "      <td>2</td>\n",
       "      <td>1</td>\n",
       "      <td>2</td>\n",
       "    </tr>\n",
       "    <tr>\n",
       "      <th>1</th>\n",
       "      <td>3</td>\n",
       "      <td>3</td>\n",
       "      <td>0</td>\n",
       "      <td>0</td>\n",
       "      <td>2</td>\n",
       "      <td>2</td>\n",
       "      <td>2</td>\n",
       "    </tr>\n",
       "    <tr>\n",
       "      <th>2</th>\n",
       "      <td>3</td>\n",
       "      <td>3</td>\n",
       "      <td>0</td>\n",
       "      <td>0</td>\n",
       "      <td>2</td>\n",
       "      <td>0</td>\n",
       "      <td>2</td>\n",
       "    </tr>\n",
       "    <tr>\n",
       "      <th>3</th>\n",
       "      <td>3</td>\n",
       "      <td>3</td>\n",
       "      <td>0</td>\n",
       "      <td>0</td>\n",
       "      <td>1</td>\n",
       "      <td>1</td>\n",
       "      <td>2</td>\n",
       "    </tr>\n",
       "    <tr>\n",
       "      <th>4</th>\n",
       "      <td>3</td>\n",
       "      <td>3</td>\n",
       "      <td>0</td>\n",
       "      <td>0</td>\n",
       "      <td>1</td>\n",
       "      <td>2</td>\n",
       "      <td>2</td>\n",
       "    </tr>\n",
       "  </tbody>\n",
       "</table>\n",
       "</div>"
      ],
      "text/plain": [
       "   buying  maint  doors  persons  lug_boot  safety  class\n",
       "0       3      3      0        0         2       1      2\n",
       "1       3      3      0        0         2       2      2\n",
       "2       3      3      0        0         2       0      2\n",
       "3       3      3      0        0         1       1      2\n",
       "4       3      3      0        0         1       2      2"
      ]
     },
     "execution_count": 8,
     "metadata": {},
     "output_type": "execute_result"
    }
   ],
   "source": [
    "for i in data.columns:\n",
    "    data[i]=le.fit_transform(data[i])\n",
    "data.head() "
   ]
  },
  {
   "cell_type": "code",
   "execution_count": 9,
   "metadata": {},
   "outputs": [],
   "source": [
    "X=data[data.columns[:-1]]\n",
    "y=data['class']"
   ]
  },
  {
   "cell_type": "code",
   "execution_count": 10,
   "metadata": {},
   "outputs": [],
   "source": [
    "from sklearn.model_selection import train_test_split"
   ]
  },
  {
   "cell_type": "code",
   "execution_count": 11,
   "metadata": {},
   "outputs": [],
   "source": [
    "X_train, X_test, y_train, y_test = train_test_split(X, y, test_size=0.3, random_state=42, stratify=y)"
   ]
  },
  {
   "cell_type": "code",
   "execution_count": 12,
   "metadata": {},
   "outputs": [
    {
     "name": "stdout",
     "output_type": "stream",
     "text": [
      "(1209, 6)\n",
      "(519, 6)\n",
      "(1209,)\n",
      "(519,)\n"
     ]
    }
   ],
   "source": [
    "print(X_train.shape)\n",
    "print(X_test.shape)\n",
    "print(y_train.shape)\n",
    "print(y_test.shape)"
   ]
  },
  {
   "cell_type": "code",
   "execution_count": 13,
   "metadata": {},
   "outputs": [],
   "source": [
    "from sklearn.linear_model import LogisticRegression\n",
    "from sklearn.metrics import accuracy_score, f1_score, precision_score, recall_score, classification_report, confusion_matrix"
   ]
  },
  {
   "cell_type": "code",
   "execution_count": 14,
   "metadata": {},
   "outputs": [
    {
     "data": {
      "text/plain": [
       "LogisticRegression(random_state=0)"
      ]
     },
     "execution_count": 14,
     "metadata": {},
     "output_type": "execute_result"
    }
   ],
   "source": [
    "clf = LogisticRegression(random_state = 0)\n",
    "clf.fit(X_train, y_train)"
   ]
  },
  {
   "cell_type": "code",
   "execution_count": 15,
   "metadata": {},
   "outputs": [
    {
     "name": "stdout",
     "output_type": "stream",
     "text": [
      "Testing Accuracy:  0.6801541425818882\n",
      "[[  9   0  96  10]\n",
      " [  2   0  19   0]\n",
      " [ 24   0 339   0]\n",
      " [  6   0   9   5]]\n",
      "              precision    recall  f1-score   support\n",
      "\n",
      "           0       0.22      0.08      0.12       115\n",
      "           1       0.00      0.00      0.00        21\n",
      "           2       0.73      0.93      0.82       363\n",
      "           3       0.33      0.25      0.29        20\n",
      "\n",
      "    accuracy                           0.68       519\n",
      "   macro avg       0.32      0.32      0.31       519\n",
      "weighted avg       0.57      0.68      0.61       519\n",
      "\n"
     ]
    },
    {
     "name": "stderr",
     "output_type": "stream",
     "text": [
      "C:\\Users\\jagan\\anaconda4\\lib\\site-packages\\sklearn\\metrics\\_classification.py:1248: UndefinedMetricWarning: Precision and F-score are ill-defined and being set to 0.0 in labels with no predicted samples. Use `zero_division` parameter to control this behavior.\n",
      "  _warn_prf(average, modifier, msg_start, len(result))\n",
      "C:\\Users\\jagan\\anaconda4\\lib\\site-packages\\sklearn\\metrics\\_classification.py:1248: UndefinedMetricWarning: Precision and F-score are ill-defined and being set to 0.0 in labels with no predicted samples. Use `zero_division` parameter to control this behavior.\n",
      "  _warn_prf(average, modifier, msg_start, len(result))\n",
      "C:\\Users\\jagan\\anaconda4\\lib\\site-packages\\sklearn\\metrics\\_classification.py:1248: UndefinedMetricWarning: Precision and F-score are ill-defined and being set to 0.0 in labels with no predicted samples. Use `zero_division` parameter to control this behavior.\n",
      "  _warn_prf(average, modifier, msg_start, len(result))\n"
     ]
    }
   ],
   "source": [
    "y_pred = clf.predict(X_test)\n",
    "f1_LR=f1_score(y_test,y_pred, average='macro')\n",
    "\n",
    "print(\"Testing Accuracy: \", clf.score(X_test, y_test))\n",
    "cm = confusion_matrix(y_test, y_pred)\n",
    "print(cm)\n",
    "print(classification_report(y_test,y_pred)) "
   ]
  },
  {
   "cell_type": "code",
   "execution_count": 16,
   "metadata": {},
   "outputs": [
    {
     "data": {
      "text/plain": [
       "KNeighborsClassifier()"
      ]
     },
     "execution_count": 16,
     "metadata": {},
     "output_type": "execute_result"
    }
   ],
   "source": [
    "#Using KNN classifier\n",
    "from sklearn.neighbors import KNeighborsClassifier\n",
    "clf = KNeighborsClassifier(n_neighbors = 5, metric = 'minkowski', p = 2)\n",
    "clf.fit(X_train, y_train)"
   ]
  },
  {
   "cell_type": "code",
   "execution_count": 17,
   "metadata": {},
   "outputs": [
    {
     "name": "stdout",
     "output_type": "stream",
     "text": [
      "Testing Accuracy:  0.9132947976878613\n",
      "[[ 91   0  24   0]\n",
      " [ 10  11   0   0]\n",
      " [  4   0 359   0]\n",
      " [  5   1   1  13]]\n",
      "              precision    recall  f1-score   support\n",
      "\n",
      "           0       0.83      0.79      0.81       115\n",
      "           1       0.92      0.52      0.67        21\n",
      "           2       0.93      0.99      0.96       363\n",
      "           3       1.00      0.65      0.79        20\n",
      "\n",
      "    accuracy                           0.91       519\n",
      "   macro avg       0.92      0.74      0.81       519\n",
      "weighted avg       0.91      0.91      0.91       519\n",
      "\n"
     ]
    }
   ],
   "source": [
    "y_pred = clf.predict(X_test)\n",
    "f1_KNN=f1_score(y_test,y_pred, average='macro')\n",
    "\n",
    "print(\"Testing Accuracy: \", clf.score(X_test, y_test))\n",
    "cm = confusion_matrix(y_test, y_pred)\n",
    "print(cm)\n",
    "print(classification_report(y_test,y_pred))"
   ]
  },
  {
   "cell_type": "code",
   "execution_count": 18,
   "metadata": {},
   "outputs": [
    {
     "data": {
      "text/plain": [
       "SVC(kernel='linear', random_state=0)"
      ]
     },
     "execution_count": 18,
     "metadata": {},
     "output_type": "execute_result"
    }
   ],
   "source": [
    "#Using Linear SVC\n",
    "from sklearn.svm import SVC\n",
    "clf = SVC(kernel = 'linear', random_state = 0)\n",
    "clf.fit(X_train, y_train)"
   ]
  },
  {
   "cell_type": "code",
   "execution_count": 19,
   "metadata": {},
   "outputs": [
    {
     "name": "stdout",
     "output_type": "stream",
     "text": [
      "Testing Accuracy:  0.7244701348747592\n",
      "[[ 19   0  96   0]\n",
      " [  0   0  21   0]\n",
      " [  6   0 357   0]\n",
      " [ 15   0   5   0]]\n",
      "              precision    recall  f1-score   support\n",
      "\n",
      "           0       0.47      0.17      0.25       115\n",
      "           1       0.00      0.00      0.00        21\n",
      "           2       0.75      0.98      0.85       363\n",
      "           3       0.00      0.00      0.00        20\n",
      "\n",
      "    accuracy                           0.72       519\n",
      "   macro avg       0.31      0.29      0.27       519\n",
      "weighted avg       0.63      0.72      0.65       519\n",
      "\n"
     ]
    },
    {
     "name": "stderr",
     "output_type": "stream",
     "text": [
      "C:\\Users\\jagan\\anaconda4\\lib\\site-packages\\sklearn\\metrics\\_classification.py:1248: UndefinedMetricWarning: Precision and F-score are ill-defined and being set to 0.0 in labels with no predicted samples. Use `zero_division` parameter to control this behavior.\n",
      "  _warn_prf(average, modifier, msg_start, len(result))\n",
      "C:\\Users\\jagan\\anaconda4\\lib\\site-packages\\sklearn\\metrics\\_classification.py:1248: UndefinedMetricWarning: Precision and F-score are ill-defined and being set to 0.0 in labels with no predicted samples. Use `zero_division` parameter to control this behavior.\n",
      "  _warn_prf(average, modifier, msg_start, len(result))\n",
      "C:\\Users\\jagan\\anaconda4\\lib\\site-packages\\sklearn\\metrics\\_classification.py:1248: UndefinedMetricWarning: Precision and F-score are ill-defined and being set to 0.0 in labels with no predicted samples. Use `zero_division` parameter to control this behavior.\n",
      "  _warn_prf(average, modifier, msg_start, len(result))\n"
     ]
    }
   ],
   "source": [
    "y_pred = clf.predict(X_test)\n",
    "f1_SVC_Linear=f1_score(y_test,y_pred, average='macro')\n",
    "\n",
    "print(\"Testing Accuracy: \", clf.score(X_test, y_test))\n",
    "cm = confusion_matrix(y_test, y_pred)\n",
    "print(cm)\n",
    "print(classification_report(y_test,y_pred))"
   ]
  },
  {
   "cell_type": "code",
   "execution_count": 20,
   "metadata": {},
   "outputs": [
    {
     "data": {
      "text/plain": [
       "SVC(random_state=0)"
      ]
     },
     "execution_count": 20,
     "metadata": {},
     "output_type": "execute_result"
    }
   ],
   "source": [
    "#Using rbf SVC\n",
    "from sklearn.svm import SVC\n",
    "clf = SVC(kernel = 'rbf', random_state = 0)\n",
    "clf.fit(X_train, y_train)"
   ]
  },
  {
   "cell_type": "code",
   "execution_count": 21,
   "metadata": {},
   "outputs": [
    {
     "name": "stdout",
     "output_type": "stream",
     "text": [
      "Testing Accuracy:  0.8998073217726397\n",
      "[[ 92   0  22   1]\n",
      " [ 14   6   0   1]\n",
      " [ 10   0 353   0]\n",
      " [  4   0   0  16]]\n",
      "              precision    recall  f1-score   support\n",
      "\n",
      "           0       0.77      0.80      0.78       115\n",
      "           1       1.00      0.29      0.44        21\n",
      "           2       0.94      0.97      0.96       363\n",
      "           3       0.89      0.80      0.84        20\n",
      "\n",
      "    accuracy                           0.90       519\n",
      "   macro avg       0.90      0.71      0.76       519\n",
      "weighted avg       0.90      0.90      0.89       519\n",
      "\n"
     ]
    }
   ],
   "source": [
    "y_pred = clf.predict(X_test)\n",
    "f1_SVC_rbf=f1_score(y_test,y_pred, average='macro')\n",
    "\n",
    "print(\"Testing Accuracy: \", clf.score(X_test, y_test))\n",
    "cm = confusion_matrix(y_test, y_pred)\n",
    "print(cm)\n",
    "print(classification_report(y_test,y_pred))"
   ]
  },
  {
   "cell_type": "code",
   "execution_count": 22,
   "metadata": {},
   "outputs": [
    {
     "data": {
      "text/plain": [
       "GaussianNB()"
      ]
     },
     "execution_count": 22,
     "metadata": {},
     "output_type": "execute_result"
    }
   ],
   "source": [
    "#Using NB classifier\n",
    "from sklearn.naive_bayes import GaussianNB\n",
    "clf = GaussianNB()\n",
    "clf.fit(X_train, y_train)"
   ]
  },
  {
   "cell_type": "code",
   "execution_count": 23,
   "metadata": {},
   "outputs": [
    {
     "name": "stdout",
     "output_type": "stream",
     "text": [
      "Testing Accuracy:  0.6146435452793835\n",
      "[[ 10   0  45  60]\n",
      " [  5   0   8   8]\n",
      " [  7   0 289  67]\n",
      " [  0   0   0  20]]\n",
      "              precision    recall  f1-score   support\n",
      "\n",
      "           0       0.45      0.09      0.15       115\n",
      "           1       0.00      0.00      0.00        21\n",
      "           2       0.85      0.80      0.82       363\n",
      "           3       0.13      1.00      0.23        20\n",
      "\n",
      "    accuracy                           0.61       519\n",
      "   macro avg       0.36      0.47      0.30       519\n",
      "weighted avg       0.70      0.61      0.61       519\n",
      "\n"
     ]
    },
    {
     "name": "stderr",
     "output_type": "stream",
     "text": [
      "C:\\Users\\jagan\\anaconda4\\lib\\site-packages\\sklearn\\metrics\\_classification.py:1248: UndefinedMetricWarning: Precision and F-score are ill-defined and being set to 0.0 in labels with no predicted samples. Use `zero_division` parameter to control this behavior.\n",
      "  _warn_prf(average, modifier, msg_start, len(result))\n",
      "C:\\Users\\jagan\\anaconda4\\lib\\site-packages\\sklearn\\metrics\\_classification.py:1248: UndefinedMetricWarning: Precision and F-score are ill-defined and being set to 0.0 in labels with no predicted samples. Use `zero_division` parameter to control this behavior.\n",
      "  _warn_prf(average, modifier, msg_start, len(result))\n",
      "C:\\Users\\jagan\\anaconda4\\lib\\site-packages\\sklearn\\metrics\\_classification.py:1248: UndefinedMetricWarning: Precision and F-score are ill-defined and being set to 0.0 in labels with no predicted samples. Use `zero_division` parameter to control this behavior.\n",
      "  _warn_prf(average, modifier, msg_start, len(result))\n"
     ]
    }
   ],
   "source": [
    "y_pred = clf.predict(X_test)\n",
    "\n",
    "print(\"Testing Accuracy: \", clf.score(X_test, y_test))\n",
    "cm = confusion_matrix(y_test, y_pred)\n",
    "print(cm)\n",
    "print(classification_report(y_test,y_pred))"
   ]
  },
  {
   "cell_type": "code",
   "execution_count": 24,
   "metadata": {},
   "outputs": [
    {
     "data": {
      "text/plain": [
       "DecisionTreeClassifier(criterion='entropy', random_state=0)"
      ]
     },
     "execution_count": 24,
     "metadata": {},
     "output_type": "execute_result"
    }
   ],
   "source": [
    "#Trying decision tree classifier\n",
    "from sklearn.tree import DecisionTreeClassifier\n",
    "cls = DecisionTreeClassifier(criterion = 'entropy', random_state = 0)\n",
    "cls.fit(X_train, y_train)"
   ]
  },
  {
   "cell_type": "code",
   "execution_count": 25,
   "metadata": {},
   "outputs": [
    {
     "name": "stdout",
     "output_type": "stream",
     "text": [
      "Testing Accuracy:  0.9749518304431599\n",
      "[[112   2   1   0]\n",
      " [  0  21   0   0]\n",
      " [  7   0 356   0]\n",
      " [  2   1   0  17]]\n",
      "              precision    recall  f1-score   support\n",
      "\n",
      "           0       0.93      0.97      0.95       115\n",
      "           1       0.88      1.00      0.93        21\n",
      "           2       1.00      0.98      0.99       363\n",
      "           3       1.00      0.85      0.92        20\n",
      "\n",
      "    accuracy                           0.97       519\n",
      "   macro avg       0.95      0.95      0.95       519\n",
      "weighted avg       0.98      0.97      0.98       519\n",
      "\n"
     ]
    }
   ],
   "source": [
    "y_pred = cls.predict(X_test)\n",
    "f1_DT=f1_score(y_test,y_pred, average='macro')\n",
    "\n",
    "print(\"Testing Accuracy: \", cls.score(X_test, y_test))\n",
    "cm = confusion_matrix(y_test, y_pred)\n",
    "print(cm)\n",
    "print(classification_report(y_test,y_pred))"
   ]
  },
  {
   "cell_type": "code",
   "execution_count": 26,
   "metadata": {},
   "outputs": [
    {
     "data": {
      "text/plain": [
       "RandomForestClassifier(criterion='entropy', max_depth=10, max_features=6,\n",
       "                       n_estimators=50)"
      ]
     },
     "execution_count": 26,
     "metadata": {},
     "output_type": "execute_result"
    }
   ],
   "source": [
    "#Trying Random forest classifier\n",
    "from sklearn.ensemble import RandomForestClassifier\n",
    "clf = RandomForestClassifier(n_estimators = 50, criterion = 'entropy', max_depth= 10 , max_features= 6)\n",
    "clf.fit(X_train, y_train)"
   ]
  },
  {
   "cell_type": "code",
   "execution_count": 27,
   "metadata": {},
   "outputs": [
    {
     "name": "stdout",
     "output_type": "stream",
     "text": [
      "Testing Accuracy:  0.9749518304431599\n",
      "[[111   2   2   0]\n",
      " [  0  21   0   0]\n",
      " [  6   0 357   0]\n",
      " [  0   3   0  17]]\n",
      "              precision    recall  f1-score   support\n",
      "\n",
      "           0       0.95      0.97      0.96       115\n",
      "           1       0.81      1.00      0.89        21\n",
      "           2       0.99      0.98      0.99       363\n",
      "           3       1.00      0.85      0.92        20\n",
      "\n",
      "    accuracy                           0.97       519\n",
      "   macro avg       0.94      0.95      0.94       519\n",
      "weighted avg       0.98      0.97      0.98       519\n",
      "\n"
     ]
    }
   ],
   "source": [
    "y_pred = clf.predict(X_test)\n",
    "f1_RF=f1_score(y_test,y_pred, average='macro')\n",
    "\n",
    "print(\"Testing Accuracy: \", clf.score(X_test, y_test))\n",
    "cm = confusion_matrix(y_test, y_pred)\n",
    "print(cm)\n",
    "print(classification_report(y_test,y_pred))"
   ]
  },
  {
   "cell_type": "code",
   "execution_count": 28,
   "metadata": {},
   "outputs": [
    {
     "data": {
      "text/plain": [
       "{'buying': 0.1773797678953715,\n",
       " 'maint': 0.19755866361405097,\n",
       " 'doors': 0.05787004049600102,\n",
       " 'persons': 0.2046520768600575,\n",
       " 'lug_boot': 0.1050645515288545,\n",
       " 'safety': 0.2574748996056646}"
      ]
     },
     "execution_count": 28,
     "metadata": {},
     "output_type": "execute_result"
    }
   ],
   "source": [
    "dict(zip(X_train,clf.feature_importances_))"
   ]
  },
  {
   "cell_type": "code",
   "execution_count": 29,
   "metadata": {},
   "outputs": [
    {
     "data": {
      "text/plain": [
       "[Text(363.49013671875, 629.0228571428572, 'persons <= 0.5\\nentropy = 1.204\\nsamples = 1209\\nvalue = [269, 48, 847, 45]'),\n",
       " Text(353.02763671875, 582.4285714285714, 'entropy = 0.0\\nsamples = 404\\nvalue = [0, 0, 404, 0]'),\n",
       " Text(373.95263671875, 582.4285714285714, 'safety <= 0.5\\nentropy = 1.478\\nsamples = 805\\nvalue = [269, 48, 443, 45]'),\n",
       " Text(199.44140625, 535.8342857142858, 'buying <= 2.5\\nentropy = 1.691\\nsamples = 271\\nvalue = [144, 22, 60, 45]'),\n",
       " Text(105.9328125, 489.24, 'buying <= 0.5\\nentropy = 1.688\\nsamples = 208\\nvalue = [113, 22, 28, 45]'),\n",
       " Text(41.85, 442.64571428571435, 'maint <= 2.5\\nentropy = 0.847\\nsamples = 73\\nvalue = [53, 0, 20, 0]'),\n",
       " Text(31.387500000000003, 396.0514285714286, 'doors <= 0.5\\nentropy = 0.301\\nsamples = 56\\nvalue = [53, 0, 3, 0]'),\n",
       " Text(20.925, 349.4571428571429, 'lug_boot <= 1.5\\nentropy = 0.65\\nsamples = 18\\nvalue = [15, 0, 3, 0]'),\n",
       " Text(10.4625, 302.86285714285714, 'entropy = 0.0\\nsamples = 12\\nvalue = [12, 0, 0, 0]'),\n",
       " Text(31.387500000000003, 302.86285714285714, 'persons <= 1.5\\nentropy = 1.0\\nsamples = 6\\nvalue = [3, 0, 3, 0]'),\n",
       " Text(20.925, 256.2685714285715, 'entropy = 0.0\\nsamples = 3\\nvalue = [3, 0, 0, 0]'),\n",
       " Text(41.85, 256.2685714285715, 'entropy = 0.0\\nsamples = 3\\nvalue = [0, 0, 3, 0]'),\n",
       " Text(41.85, 349.4571428571429, 'entropy = 0.0\\nsamples = 38\\nvalue = [38, 0, 0, 0]'),\n",
       " Text(52.3125, 396.0514285714286, 'entropy = 0.0\\nsamples = 17\\nvalue = [0, 0, 17, 0]'),\n",
       " Text(170.015625, 442.64571428571435, 'lug_boot <= 1.5\\nentropy = 1.716\\nsamples = 135\\nvalue = [60, 22, 8, 45]'),\n",
       " Text(120.31875000000001, 396.0514285714286, 'maint <= 2.5\\nentropy = 1.313\\nsamples = 86\\nvalue = [34, 7, 0, 45]'),\n",
       " Text(109.85625, 349.4571428571429, 'maint <= 0.5\\nentropy = 1.223\\nsamples = 68\\nvalue = [16, 7, 0, 45]'),\n",
       " Text(73.2375, 302.86285714285714, 'buying <= 1.5\\nentropy = 0.946\\nsamples = 22\\nvalue = [14, 0, 0, 8]'),\n",
       " Text(62.775000000000006, 256.2685714285715, 'lug_boot <= 0.5\\nentropy = 0.845\\nsamples = 11\\nvalue = [3, 0, 0, 8]'),\n",
       " Text(52.3125, 209.6742857142857, 'entropy = 0.0\\nsamples = 5\\nvalue = [0, 0, 0, 5]'),\n",
       " Text(73.2375, 209.6742857142857, 'doors <= 0.5\\nentropy = 1.0\\nsamples = 6\\nvalue = [3, 0, 0, 3]'),\n",
       " Text(62.775000000000006, 163.08000000000004, 'entropy = 0.0\\nsamples = 2\\nvalue = [2, 0, 0, 0]'),\n",
       " Text(83.7, 163.08000000000004, 'persons <= 1.5\\nentropy = 0.811\\nsamples = 4\\nvalue = [1, 0, 0, 3]'),\n",
       " Text(73.2375, 116.48571428571427, 'doors <= 2.0\\nentropy = 1.0\\nsamples = 2\\nvalue = [1, 0, 0, 1]'),\n",
       " Text(62.775000000000006, 69.8914285714286, 'entropy = 0.0\\nsamples = 1\\nvalue = [1, 0, 0, 0]'),\n",
       " Text(83.7, 69.8914285714286, 'entropy = 0.0\\nsamples = 1\\nvalue = [0, 0, 0, 1]'),\n",
       " Text(94.16250000000001, 116.48571428571427, 'entropy = 0.0\\nsamples = 2\\nvalue = [0, 0, 0, 2]'),\n",
       " Text(83.7, 256.2685714285715, 'entropy = 0.0\\nsamples = 11\\nvalue = [11, 0, 0, 0]'),\n",
       " Text(146.475, 302.86285714285714, 'lug_boot <= 0.5\\nentropy = 0.863\\nsamples = 46\\nvalue = [2, 7, 0, 37]'),\n",
       " Text(136.01250000000002, 256.2685714285715, 'entropy = 0.0\\nsamples = 23\\nvalue = [0, 0, 0, 23]'),\n",
       " Text(156.9375, 256.2685714285715, 'doors <= 1.5\\nentropy = 1.265\\nsamples = 23\\nvalue = [2, 7, 0, 14]'),\n",
       " Text(146.475, 209.6742857142857, 'buying <= 1.5\\nentropy = 1.157\\nsamples = 10\\nvalue = [2, 7, 0, 1]'),\n",
       " Text(125.55000000000001, 163.08000000000004, 'doors <= 0.5\\nentropy = 0.65\\nsamples = 6\\nvalue = [0, 5, 0, 1]'),\n",
       " Text(115.0875, 116.48571428571427, 'entropy = 0.0\\nsamples = 4\\nvalue = [0, 4, 0, 0]'),\n",
       " Text(136.01250000000002, 116.48571428571427, 'persons <= 1.5\\nentropy = 1.0\\nsamples = 2\\nvalue = [0, 1, 0, 1]'),\n",
       " Text(125.55000000000001, 69.8914285714286, 'entropy = 0.0\\nsamples = 1\\nvalue = [0, 1, 0, 0]'),\n",
       " Text(146.475, 69.8914285714286, 'entropy = 0.0\\nsamples = 1\\nvalue = [0, 0, 0, 1]'),\n",
       " Text(167.4, 163.08000000000004, 'maint <= 1.5\\nentropy = 1.0\\nsamples = 4\\nvalue = [2, 2, 0, 0]'),\n",
       " Text(156.9375, 116.48571428571427, 'entropy = 0.0\\nsamples = 2\\nvalue = [0, 2, 0, 0]'),\n",
       " Text(177.8625, 116.48571428571427, 'entropy = 0.0\\nsamples = 2\\nvalue = [2, 0, 0, 0]'),\n",
       " Text(167.4, 209.6742857142857, 'entropy = 0.0\\nsamples = 13\\nvalue = [0, 0, 0, 13]'),\n",
       " Text(130.78125, 349.4571428571429, 'entropy = 0.0\\nsamples = 18\\nvalue = [18, 0, 0, 0]'),\n",
       " Text(219.7125, 396.0514285714286, 'doors <= 0.5\\nentropy = 1.435\\nsamples = 49\\nvalue = [26, 15, 8, 0]'),\n",
       " Text(198.7875, 349.4571428571429, 'persons <= 1.5\\nentropy = 1.414\\nsamples = 14\\nvalue = [3, 3, 8, 0]'),\n",
       " Text(188.32500000000002, 302.86285714285714, 'maint <= 0.5\\nentropy = 1.0\\nsamples = 6\\nvalue = [3, 3, 0, 0]'),\n",
       " Text(177.8625, 256.2685714285715, 'entropy = 0.0\\nsamples = 1\\nvalue = [1, 0, 0, 0]'),\n",
       " Text(198.7875, 256.2685714285715, 'buying <= 1.5\\nentropy = 0.971\\nsamples = 5\\nvalue = [2, 3, 0, 0]'),\n",
       " Text(188.32500000000002, 209.6742857142857, 'entropy = 0.0\\nsamples = 2\\nvalue = [0, 2, 0, 0]'),\n",
       " Text(209.25, 209.6742857142857, 'maint <= 1.5\\nentropy = 0.918\\nsamples = 3\\nvalue = [2, 1, 0, 0]'),\n",
       " Text(198.7875, 163.08000000000004, 'entropy = 0.0\\nsamples = 1\\nvalue = [0, 1, 0, 0]'),\n",
       " Text(219.7125, 163.08000000000004, 'entropy = 0.0\\nsamples = 2\\nvalue = [2, 0, 0, 0]'),\n",
       " Text(209.25, 302.86285714285714, 'entropy = 0.0\\nsamples = 8\\nvalue = [0, 0, 8, 0]'),\n",
       " Text(240.63750000000002, 349.4571428571429, 'maint <= 0.5\\nentropy = 0.928\\nsamples = 35\\nvalue = [23, 12, 0, 0]'),\n",
       " Text(230.175, 302.86285714285714, 'entropy = 0.0\\nsamples = 11\\nvalue = [11, 0, 0, 0]'),\n",
       " Text(251.10000000000002, 302.86285714285714, 'maint <= 1.5\\nentropy = 1.0\\nsamples = 24\\nvalue = [12, 12, 0, 0]'),\n",
       " Text(240.63750000000002, 256.2685714285715, 'entropy = 0.0\\nsamples = 7\\nvalue = [0, 7, 0, 0]'),\n",
       " Text(261.5625, 256.2685714285715, 'buying <= 1.5\\nentropy = 0.874\\nsamples = 17\\nvalue = [12, 5, 0, 0]'),\n",
       " Text(251.10000000000002, 209.6742857142857, 'maint <= 2.5\\nentropy = 0.991\\nsamples = 9\\nvalue = [4, 5, 0, 0]'),\n",
       " Text(240.63750000000002, 163.08000000000004, 'entropy = 0.0\\nsamples = 5\\nvalue = [0, 5, 0, 0]'),\n",
       " Text(261.5625, 163.08000000000004, 'entropy = 0.0\\nsamples = 4\\nvalue = [4, 0, 0, 0]'),\n",
       " Text(272.02500000000003, 209.6742857142857, 'entropy = 0.0\\nsamples = 8\\nvalue = [8, 0, 0, 0]'),\n",
       " Text(292.95, 489.24, 'maint <= 0.5\\nentropy = 1.0\\nsamples = 63\\nvalue = [31, 0, 32, 0]'),\n",
       " Text(282.4875, 442.64571428571435, 'entropy = 0.0\\nsamples = 20\\nvalue = [0, 0, 20, 0]'),\n",
       " Text(303.4125, 442.64571428571435, 'maint <= 2.5\\nentropy = 0.854\\nsamples = 43\\nvalue = [31, 0, 12, 0]'),\n",
       " Text(292.95, 396.0514285714286, 'doors <= 0.5\\nentropy = 0.201\\nsamples = 32\\nvalue = [31, 0, 1, 0]'),\n",
       " Text(282.4875, 349.4571428571429, 'lug_boot <= 1.5\\nentropy = 0.503\\nsamples = 9\\nvalue = [8, 0, 1, 0]'),\n",
       " Text(272.02500000000003, 302.86285714285714, 'entropy = 0.0\\nsamples = 6\\nvalue = [6, 0, 0, 0]'),\n",
       " Text(292.95, 302.86285714285714, 'persons <= 1.5\\nentropy = 0.918\\nsamples = 3\\nvalue = [2, 0, 1, 0]'),\n",
       " Text(282.4875, 256.2685714285715, 'entropy = 0.0\\nsamples = 2\\nvalue = [2, 0, 0, 0]'),\n",
       " Text(303.4125, 256.2685714285715, 'entropy = 0.0\\nsamples = 1\\nvalue = [0, 0, 1, 0]'),\n",
       " Text(303.4125, 349.4571428571429, 'entropy = 0.0\\nsamples = 23\\nvalue = [23, 0, 0, 0]'),\n",
       " Text(313.875, 396.0514285714286, 'entropy = 0.0\\nsamples = 11\\nvalue = [0, 0, 11, 0]'),\n",
       " Text(548.4638671875, 535.8342857142858, 'safety <= 1.5\\nentropy = 1.047\\nsamples = 534\\nvalue = [125, 26, 383, 0]'),\n",
       " Text(538.0013671875, 489.24, 'entropy = 0.0\\nsamples = 268\\nvalue = [0, 0, 268, 0]'),\n",
       " Text(558.9263671875, 489.24, 'lug_boot <= 1.5\\nentropy = 1.363\\nsamples = 266\\nvalue = [125, 26, 115, 0]'),\n",
       " Text(479.64023437500003, 442.64571428571435, 'buying <= 2.5\\nentropy = 1.365\\nsamples = 179\\nvalue = [105, 26, 48, 0]'),\n",
       " Text(404.76796875, 396.0514285714286, 'buying <= 0.5\\nentropy = 1.283\\nsamples = 134\\nvalue = [87, 26, 21, 0]'),\n",
       " Text(345.2625, 349.4571428571429, 'maint <= 2.5\\nentropy = 0.95\\nsamples = 46\\nvalue = [29, 0, 17, 0]'),\n",
       " Text(334.8, 302.86285714285714, 'lug_boot <= 0.5\\nentropy = 0.711\\nsamples = 36\\nvalue = [29, 0, 7, 0]'),\n",
       " Text(324.33750000000003, 256.2685714285715, 'entropy = 0.0\\nsamples = 21\\nvalue = [21, 0, 0, 0]'),\n",
       " Text(345.2625, 256.2685714285715, 'doors <= 1.5\\nentropy = 0.997\\nsamples = 15\\nvalue = [8, 0, 7, 0]'),\n",
       " Text(334.8, 209.6742857142857, 'doors <= 0.5\\nentropy = 0.764\\nsamples = 9\\nvalue = [2, 0, 7, 0]'),\n",
       " Text(324.33750000000003, 163.08000000000004, 'entropy = 0.0\\nsamples = 5\\nvalue = [0, 0, 5, 0]'),\n",
       " Text(345.2625, 163.08000000000004, 'persons <= 1.5\\nentropy = 1.0\\nsamples = 4\\nvalue = [2, 0, 2, 0]'),\n",
       " Text(334.8, 116.48571428571427, 'entropy = 0.0\\nsamples = 2\\nvalue = [0, 0, 2, 0]'),\n",
       " Text(355.725, 116.48571428571427, 'entropy = 0.0\\nsamples = 2\\nvalue = [2, 0, 0, 0]'),\n",
       " Text(355.725, 209.6742857142857, 'entropy = 0.0\\nsamples = 6\\nvalue = [6, 0, 0, 0]'),\n",
       " Text(355.725, 302.86285714285714, 'entropy = 0.0\\nsamples = 10\\nvalue = [0, 0, 10, 0]'),\n",
       " Text(464.2734375, 349.4571428571429, 'maint <= 2.5\\nentropy = 1.119\\nsamples = 88\\nvalue = [58, 26, 4, 0]'),\n",
       " Text(415.88437500000003, 302.86285714285714, 'maint <= 0.5\\nentropy = 1.074\\nsamples = 65\\nvalue = [38, 26, 1, 0]'),\n",
       " Text(387.1125, 256.2685714285715, 'doors <= 0.5\\nentropy = 0.267\\nsamples = 22\\nvalue = [21, 0, 1, 0]'),\n",
       " Text(376.65000000000003, 209.6742857142857, 'lug_boot <= 0.5\\nentropy = 0.592\\nsamples = 7\\nvalue = [6, 0, 1, 0]'),\n",
       " Text(366.1875, 163.08000000000004, 'entropy = 0.0\\nsamples = 4\\nvalue = [4, 0, 0, 0]'),\n",
       " Text(387.1125, 163.08000000000004, 'buying <= 1.5\\nentropy = 0.918\\nsamples = 3\\nvalue = [2, 0, 1, 0]'),\n",
       " Text(376.65000000000003, 116.48571428571427, 'entropy = 0.0\\nsamples = 2\\nvalue = [2, 0, 0, 0]'),\n",
       " Text(397.575, 116.48571428571427, 'entropy = 0.0\\nsamples = 1\\nvalue = [0, 0, 1, 0]'),\n",
       " Text(397.575, 209.6742857142857, 'entropy = 0.0\\nsamples = 15\\nvalue = [15, 0, 0, 0]'),\n",
       " Text(444.65625, 256.2685714285715, 'lug_boot <= 0.5\\nentropy = 0.968\\nsamples = 43\\nvalue = [17, 26, 0, 0]'),\n",
       " Text(418.5, 209.6742857142857, 'maint <= 1.5\\nentropy = 0.722\\nsamples = 20\\nvalue = [4, 16, 0, 0]'),\n",
       " Text(408.0375, 163.08000000000004, 'entropy = 0.0\\nsamples = 10\\nvalue = [0, 10, 0, 0]'),\n",
       " Text(428.96250000000003, 163.08000000000004, 'buying <= 1.5\\nentropy = 0.971\\nsamples = 10\\nvalue = [4, 6, 0, 0]'),\n",
       " Text(418.5, 116.48571428571427, 'entropy = 0.0\\nsamples = 6\\nvalue = [0, 6, 0, 0]'),\n",
       " Text(439.425, 116.48571428571427, 'entropy = 0.0\\nsamples = 4\\nvalue = [4, 0, 0, 0]'),\n",
       " Text(470.8125, 209.6742857142857, 'doors <= 0.5\\nentropy = 0.988\\nsamples = 23\\nvalue = [13, 10, 0, 0]'),\n",
       " Text(460.35, 163.08000000000004, 'entropy = 0.0\\nsamples = 7\\nvalue = [7, 0, 0, 0]'),\n",
       " Text(481.27500000000003, 163.08000000000004, 'maint <= 1.5\\nentropy = 0.954\\nsamples = 16\\nvalue = [6, 10, 0, 0]'),\n",
       " Text(460.35, 116.48571428571427, 'doors <= 1.5\\nentropy = 0.722\\nsamples = 10\\nvalue = [2, 8, 0, 0]'),\n",
       " Text(449.8875, 69.8914285714286, 'persons <= 1.5\\nentropy = 1.0\\nsamples = 4\\nvalue = [2, 2, 0, 0]'),\n",
       " Text(439.425, 23.29714285714283, 'entropy = 0.0\\nsamples = 2\\nvalue = [2, 0, 0, 0]'),\n",
       " Text(460.35, 23.29714285714283, 'entropy = 0.0\\nsamples = 2\\nvalue = [0, 2, 0, 0]'),\n",
       " Text(470.8125, 69.8914285714286, 'entropy = 0.0\\nsamples = 6\\nvalue = [0, 6, 0, 0]'),\n",
       " Text(502.20000000000005, 116.48571428571427, 'buying <= 1.5\\nentropy = 0.918\\nsamples = 6\\nvalue = [4, 2, 0, 0]'),\n",
       " Text(491.7375, 69.8914285714286, 'entropy = 0.0\\nsamples = 2\\nvalue = [0, 2, 0, 0]'),\n",
       " Text(512.6625, 69.8914285714286, 'entropy = 0.0\\nsamples = 4\\nvalue = [4, 0, 0, 0]'),\n",
       " Text(512.6625, 302.86285714285714, 'doors <= 0.5\\nentropy = 0.559\\nsamples = 23\\nvalue = [20, 0, 3, 0]'),\n",
       " Text(502.20000000000005, 256.2685714285715, 'lug_boot <= 0.5\\nentropy = 0.985\\nsamples = 7\\nvalue = [4, 0, 3, 0]'),\n",
       " Text(491.7375, 209.6742857142857, 'entropy = 0.0\\nsamples = 4\\nvalue = [4, 0, 0, 0]'),\n",
       " Text(512.6625, 209.6742857142857, 'entropy = 0.0\\nsamples = 3\\nvalue = [0, 0, 3, 0]'),\n",
       " Text(523.125, 256.2685714285715, 'entropy = 0.0\\nsamples = 16\\nvalue = [16, 0, 0, 0]'),\n",
       " Text(554.5125, 396.0514285714286, 'maint <= 0.5\\nentropy = 0.971\\nsamples = 45\\nvalue = [18, 0, 27, 0]'),\n",
       " Text(544.0500000000001, 349.4571428571429, 'entropy = 0.0\\nsamples = 14\\nvalue = [0, 0, 14, 0]'),\n",
       " Text(564.975, 349.4571428571429, 'maint <= 2.5\\nentropy = 0.981\\nsamples = 31\\nvalue = [18, 0, 13, 0]'),\n",
       " Text(554.5125, 302.86285714285714, 'lug_boot <= 0.5\\nentropy = 0.592\\nsamples = 21\\nvalue = [18, 0, 3, 0]'),\n",
       " Text(544.0500000000001, 256.2685714285715, 'entropy = 0.0\\nsamples = 13\\nvalue = [13, 0, 0, 0]'),\n",
       " Text(564.975, 256.2685714285715, 'doors <= 1.5\\nentropy = 0.954\\nsamples = 8\\nvalue = [5, 0, 3, 0]'),\n",
       " Text(554.5125, 209.6742857142857, 'maint <= 1.5\\nentropy = 0.811\\nsamples = 4\\nvalue = [1, 0, 3, 0]'),\n",
       " Text(544.0500000000001, 163.08000000000004, 'entropy = 0.0\\nsamples = 3\\nvalue = [0, 0, 3, 0]'),\n",
       " Text(564.975, 163.08000000000004, 'entropy = 0.0\\nsamples = 1\\nvalue = [1, 0, 0, 0]'),\n",
       " Text(575.4375, 209.6742857142857, 'entropy = 0.0\\nsamples = 4\\nvalue = [4, 0, 0, 0]'),\n",
       " Text(575.4375, 302.86285714285714, 'entropy = 0.0\\nsamples = 10\\nvalue = [0, 0, 10, 0]'),\n",
       " Text(638.2125, 442.64571428571435, 'buying <= 0.5\\nentropy = 0.778\\nsamples = 87\\nvalue = [20, 0, 67, 0]'),\n",
       " Text(627.75, 396.0514285714286, 'entropy = 0.0\\nsamples = 24\\nvalue = [0, 0, 24, 0]'),\n",
       " Text(648.6750000000001, 396.0514285714286, 'buying <= 2.5\\nentropy = 0.902\\nsamples = 63\\nvalue = [20, 0, 43, 0]'),\n",
       " Text(638.2125, 349.4571428571429, 'maint <= 2.5\\nentropy = 1.0\\nsamples = 40\\nvalue = [20, 0, 20, 0]'),\n",
       " Text(627.75, 302.86285714285714, 'doors <= 0.5\\nentropy = 0.894\\nsamples = 29\\nvalue = [20, 0, 9, 0]'),\n",
       " Text(606.825, 256.2685714285715, 'persons <= 1.5\\nentropy = 0.65\\nsamples = 6\\nvalue = [1, 0, 5, 0]'),\n",
       " Text(596.3625000000001, 209.6742857142857, 'entropy = 0.0\\nsamples = 1\\nvalue = [1, 0, 0, 0]'),\n",
       " Text(617.2875, 209.6742857142857, 'entropy = 0.0\\nsamples = 5\\nvalue = [0, 0, 5, 0]'),\n",
       " Text(648.6750000000001, 256.2685714285715, 'maint <= 0.5\\nentropy = 0.667\\nsamples = 23\\nvalue = [19, 0, 4, 0]'),\n",
       " Text(638.2125, 209.6742857142857, 'buying <= 1.5\\nentropy = 0.985\\nsamples = 7\\nvalue = [3, 0, 4, 0]'),\n",
       " Text(627.75, 163.08000000000004, 'entropy = 0.0\\nsamples = 3\\nvalue = [3, 0, 0, 0]'),\n",
       " Text(648.6750000000001, 163.08000000000004, 'entropy = 0.0\\nsamples = 4\\nvalue = [0, 0, 4, 0]'),\n",
       " Text(659.1375, 209.6742857142857, 'entropy = 0.0\\nsamples = 16\\nvalue = [16, 0, 0, 0]'),\n",
       " Text(648.6750000000001, 302.86285714285714, 'entropy = 0.0\\nsamples = 11\\nvalue = [0, 0, 11, 0]'),\n",
       " Text(659.1375, 349.4571428571429, 'entropy = 0.0\\nsamples = 23\\nvalue = [0, 0, 23, 0]')]"
      ]
     },
     "execution_count": 29,
     "metadata": {},
     "output_type": "execute_result"
    },
    {
     "data": {
      "image/png": "[encoded data removed]",
      "text/plain": [
       "<Figure size 864x864 with 1 Axes>"
      ]
     },
     "metadata": {
      "needs_background": "light"
     },
     "output_type": "display_data"
    }
   ],
   "source": [
    "from sklearn import tree\n",
    "fig, ax = plt.subplots(figsize=(12, 12)) \n",
    "fn= ['buying','maint','doors','persons','lug_boot','safety']\n",
    "\n",
    "\n",
    "tree.plot_tree(cls,feature_names = fn)"
   ]
  },
  {
   "cell_type": "code",
   "execution_count": 30,
   "metadata": {},
   "outputs": [],
   "source": [
    "# import graphviz \n",
    "# dot_data = tree.export_graphviz(cls, out_file=None, \n",
    "#                               feature_names=X_train.columns,  \n",
    "#                               class_names=y_train,  \n",
    "#                               filled=True, rounded=True,  \n",
    "#                               special_characters=True)\n",
    "\n",
    "# graph = graphviz.Source(dot_data) \n",
    "\n",
    "# graph "
   ]
  },
  {
   "cell_type": "code",
   "execution_count": 32,
   "metadata": {},
   "outputs": [],
   "source": [
    "import xgboost as xgb"
   ]
  },
  {
   "cell_type": "code",
   "execution_count": 33,
   "metadata": {},
   "outputs": [],
   "source": [
    "clf = xgb.XGBClassifier(max_depth=2, n_jobs = 4)"
   ]
  },
  {
   "cell_type": "code",
   "execution_count": 34,
   "metadata": {},
   "outputs": [],
   "source": [
    "clf_xgb = xgb.XGBClassifier( max_depth=4, random_state = 42, n_jobs = 4)\n"
   ]
  },
  {
   "cell_type": "code",
   "execution_count": 35,
   "metadata": {},
   "outputs": [
    {
     "data": {
      "text/plain": [
       "XGBClassifier(base_score=None, booster=None, callbacks=None,\n",
       "              colsample_bylevel=None, colsample_bynode=None,\n",
       "              colsample_bytree=None, device=None, early_stopping_rounds=None,\n",
       "              enable_categorical=False, eval_metric=None, feature_types=None,\n",
       "              gamma=None, grow_policy=None, importance_type=None,\n",
       "              interaction_constraints=None, learning_rate=None, max_bin=None,\n",
       "              max_cat_threshold=None, max_cat_to_onehot=None,\n",
       "              max_delta_step=None, max_depth=4, max_leaves=None,\n",
       "              min_child_weight=None, missing=nan, monotone_constraints=None,\n",
       "              multi_strategy=None, n_estimators=None, n_jobs=4,\n",
       "              num_parallel_tree=None, objective='multi:softprob', ...)"
      ]
     },
     "execution_count": 35,
     "metadata": {},
     "output_type": "execute_result"
    }
   ],
   "source": [
    "clf_xgb.fit(X_train, y_train)"
   ]
  },
  {
   "cell_type": "code",
   "execution_count": 36,
   "metadata": {},
   "outputs": [
    {
     "name": "stdout",
     "output_type": "stream",
     "text": [
      "Training set score: 1.0000\n",
      "Test set score: 0.9865\n"
     ]
    }
   ],
   "source": [
    "print('Training set score: {:.4f}'.format(clf_xgb.score(X_train, y_train)))\n",
    "\n",
    "print('Test set score: {:.4f}'.format(clf_xgb.score(X_test, y_test)))"
   ]
  },
  {
   "cell_type": "code",
   "execution_count": 37,
   "metadata": {},
   "outputs": [
    {
     "name": "stdout",
     "output_type": "stream",
     "text": [
      "Testing Accuracy:  0.9865125240847784\n",
      "[[114   0   1   0]\n",
      " [  0  21   0   0]\n",
      " [  5   0 358   0]\n",
      " [  0   1   0  19]]\n",
      "              precision    recall  f1-score   support\n",
      "\n",
      "           0       0.96      0.99      0.97       115\n",
      "           1       0.95      1.00      0.98        21\n",
      "           2       1.00      0.99      0.99       363\n",
      "           3       1.00      0.95      0.97        20\n",
      "\n",
      "    accuracy                           0.99       519\n",
      "   macro avg       0.98      0.98      0.98       519\n",
      "weighted avg       0.99      0.99      0.99       519\n",
      "\n"
     ]
    }
   ],
   "source": [
    "y_pred = clf_xgb.predict(X_test)\n",
    "\n",
    "print(\"Testing Accuracy: \",clf_xgb.score(X_test, y_test))\n",
    "cm = confusion_matrix(y_test, y_pred)\n",
    "print(cm)\n",
    "print(classification_report(y_test,y_pred))"
   ]
  },
  {
   "cell_type": "code",
   "execution_count": 38,
   "metadata": {},
   "outputs": [],
   "source": [
    "from sklearn.neural_network import MLPClassifier"
   ]
  },
  {
   "cell_type": "code",
   "execution_count": 39,
   "metadata": {},
   "outputs": [],
   "source": [
    "classifier = MLPClassifier(hidden_layer_sizes=(150,100,50), max_iter=300,activation = 'relu',solver='adam',random_state=1)"
   ]
  },
  {
   "cell_type": "code",
   "execution_count": 40,
   "metadata": {},
   "outputs": [
    {
     "data": {
      "text/plain": [
       "MLPClassifier(hidden_layer_sizes=(150, 100, 50), max_iter=300, random_state=1)"
      ]
     },
     "execution_count": 40,
     "metadata": {},
     "output_type": "execute_result"
    }
   ],
   "source": [
    "classifier.fit(X_train, y_train)"
   ]
  },
  {
   "cell_type": "code",
   "execution_count": 41,
   "metadata": {},
   "outputs": [
    {
     "name": "stdout",
     "output_type": "stream",
     "text": [
      "Testing Accuracy:  0.9788053949903661\n",
      "[[110   0   5   0]\n",
      " [  0  21   0   0]\n",
      " [  5   0 358   0]\n",
      " [  1   0   0  19]]\n",
      "              precision    recall  f1-score   support\n",
      "\n",
      "           0       0.95      0.96      0.95       115\n",
      "           1       1.00      1.00      1.00        21\n",
      "           2       0.99      0.99      0.99       363\n",
      "           3       1.00      0.95      0.97        20\n",
      "\n",
      "    accuracy                           0.98       519\n",
      "   macro avg       0.98      0.97      0.98       519\n",
      "weighted avg       0.98      0.98      0.98       519\n",
      "\n"
     ]
    }
   ],
   "source": [
    "y_pred = classifier.predict(X_test)\n",
    "\n",
    "print(\"Testing Accuracy: \",classifier.score(X_test, y_test))\n",
    "cm = confusion_matrix(y_test, y_pred)\n",
    "print(cm)\n",
    "print(classification_report(y_test,y_pred))"
   ]
  },
  {
   "cell_type": "code",
   "execution_count": 42,
   "metadata": {},
   "outputs": [
    {
     "data": {
      "text/plain": [
       "Text(69.0, 0.5, 'Truth')"
      ]
     },
     "execution_count": 42,
     "metadata": {},
     "output_type": "execute_result"
    },
    {
     "data": {
      "image/png": "[encoded data removed]",
      "text/plain": [
       "<Figure size 720x720 with 2 Axes>"
      ]
     },
     "metadata": {
      "needs_background": "light"
     },
     "output_type": "display_data"
    }
   ],
   "source": [
    "import seaborn as sn\n",
    "plt.figure(figsize = (10,10))\n",
    "sn.heatmap(cm, annot=True)\n",
    "plt.xlabel('Predicted')\n",
    "plt.ylabel('Truth')"
   ]
  },
  {
   "cell_type": "code",
   "execution_count": null,
   "metadata": {},
   "outputs": [],
   "source": []
  }
 ],
 "metadata": {
  "kernelspec": {
   "display_name": "Python 3 (ipykernel)",
   "language": "python",
   "name": "python3"
  },
  "language_info": {
   "codemirror_mode": {
    "name": "ipython",
    "version": 3
   },
   "file_extension": ".py",
   "mimetype": "text/x-python",
   "name": "python",
   "nbconvert_exporter": "python",
   "pygments_lexer": "ipython3",
   "version": "3.9.7"
  }
 },
 "nbformat": 4,
 "nbformat_minor": 4
}
